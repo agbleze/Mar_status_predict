{
 "cells": [
  {
   "cell_type": "code",
   "execution_count": 1,
   "source": [
    "import pandas as pd\n",
    "import numpy as np\n",
    "import matplotlib.pyplot as plt"
   ],
   "outputs": [],
   "metadata": {}
  },
  {
   "cell_type": "code",
   "execution_count": 2,
   "source": [
    "df_g7sec1 = pd.read_spss(path='g7sec1.sav')"
   ],
   "outputs": [],
   "metadata": {}
  },
  {
   "cell_type": "code",
   "execution_count": 3,
   "source": [
    "health = pd.read_spss(path='g7sec3b_Health_Insurance.sav')"
   ],
   "outputs": [],
   "metadata": {}
  },
  {
   "cell_type": "code",
   "execution_count": 4,
   "source": [
    "g7sec7 = pd.read_spss(path='g7sec7.sav')"
   ],
   "outputs": [],
   "metadata": {}
  },
  {
   "cell_type": "code",
   "execution_count": 5,
   "source": [
    "g7sec7j = pd.read_spss(path='g7sec7j.sav')"
   ],
   "outputs": [],
   "metadata": {}
  },
  {
   "cell_type": "code",
   "execution_count": 6,
   "source": [
    "g7sec2 = pd.read_spss(path='g7sec2.sav')\n",
    "\n",
    "#g7sec7j_sel = g7sec7j[[]]"
   ],
   "outputs": [],
   "metadata": {}
  },
  {
   "cell_type": "code",
   "execution_count": 7,
   "source": [
    "df_g7sec1.columns"
   ],
   "outputs": [
    {
     "output_type": "execute_result",
     "data": {
      "text/plain": [
       "Index(['phid', 'hid', 'clust', 'nh', 'pid', 's1q2', 's1q3', 's1q4dd', 's1q4mm',\n",
       "       's1q4yy', 's1q5y', 's1q5m', 's1q6', 's1q7', 's1q8', 's1q9', 's1q10',\n",
       "       's1q10o', 's1q11', 's1q12', 's1q12o', 's1q13', 's1q14', 's1q15',\n",
       "       's1q16', 's1q16a', 's1q16ao', 's1q17', 's1q17o', 's1q18', 's1q19',\n",
       "       's1q20', 's1q20a', 's1q20ao', 's1q21', 's1q21o', 's1q22', 's1q23',\n",
       "       's1q24', 'region', 'loc2', 'WTA_S'],\n",
       "      dtype='object')"
      ]
     },
     "metadata": {},
     "execution_count": 7
    }
   ],
   "metadata": {}
  },
  {
   "cell_type": "code",
   "execution_count": 8,
   "source": [
    "health.columns"
   ],
   "outputs": [
    {
     "output_type": "execute_result",
     "data": {
      "text/plain": [
       "Index(['phid', 'clust', 'nh', 'pid', 's3bqpid', 's3bq1', 's3bq2', 's3bq2o',\n",
       "       's3bq3', 's3bq4', 's3bq4o', 's3bq5', 's3bq5o', 's3bq6', 's3bq7a1',\n",
       "       's3bq7a2', 's3bq7a3', 's3bq7a4', 's3bq7a5', 's3bq7a6', 's3bq7a7',\n",
       "       's3bq7ao', 's3bq7b1', 's3bq7b2', 's3bq7b3', 's3bq7b4', 's3bq7b5',\n",
       "       's3bq7b6', 's3bq7b7', 's3bq7bo', 's3bq8', 's3bq9a', 's3bq9b', 's3bq10',\n",
       "       'hid', 'region', 'loc2', 'WTA_S'],\n",
       "      dtype='object')"
      ]
     },
     "metadata": {},
     "execution_count": 8
    }
   ],
   "metadata": {}
  },
  {
   "cell_type": "code",
   "execution_count": 9,
   "source": [
    "g7sec7.columns"
   ],
   "outputs": [
    {
     "output_type": "execute_result",
     "data": {
      "text/plain": [
       "Index(['hid', 'clust', 'nh', 's7aq1', 's7aq1o', 's7aq2', 's7aq3', 's7aq4',\n",
       "       's7aq5', 's7bq1',\n",
       "       ...\n",
       "       's7hq3a', 's7hq3b', 's7hq3c', 's7hq4', 's7fiq1', 's7hqa', 's7hq2s',\n",
       "       'region', 'loc2', 'WTA_S'],\n",
       "      dtype='object', length=149)"
      ]
     },
     "metadata": {},
     "execution_count": 9
    }
   ],
   "metadata": {}
  },
  {
   "cell_type": "code",
   "execution_count": 10,
   "source": [
    "g7sec7j.columns"
   ],
   "outputs": [
    {
     "output_type": "execute_result",
     "data": {
      "text/plain": [
       "Index(['phid', 'clust', 'nh', 'pid', 'sex', 'age_yrs', 'age_mths', 's7jq0',\n",
       "       's7jq1', 's7jq2', 's7jq3', 'hid', 'region', 'loc2', 'WTA_S'],\n",
       "      dtype='object')"
      ]
     },
     "metadata": {},
     "execution_count": 10
    }
   ],
   "metadata": {}
  },
  {
   "cell_type": "code",
   "execution_count": 11,
   "source": [
    "df_g7sec1['s1q6'].value_counts()"
   ],
   "outputs": [
    {
     "output_type": "execute_result",
     "data": {
      "text/plain": [
       "Never married       17842\n",
       "Married             15735\n",
       "Widowed              2826\n",
       "Consensual Union     2502\n",
       "Divorced             1095\n",
       "Separated             831\n",
       "Name: s1q6, dtype: int64"
      ]
     },
     "metadata": {},
     "execution_count": 11
    }
   ],
   "metadata": {}
  },
  {
   "cell_type": "code",
   "execution_count": 12,
   "source": [
    "df_g7sec1['s1q9'].count()"
   ],
   "outputs": [
    {
     "output_type": "execute_result",
     "data": {
      "text/plain": [
       "22988"
      ]
     },
     "metadata": {},
     "execution_count": 12
    }
   ],
   "metadata": {}
  },
  {
   "cell_type": "code",
   "execution_count": 13,
   "source": [
    "## used 'phid' as individuals in household\n",
    "\n",
    "# select columns of interest for each dataset\n",
    "# join data together on phid"
   ],
   "outputs": [],
   "metadata": {}
  },
  {
   "cell_type": "code",
   "execution_count": 14,
   "source": [
    "df_sel = df_g7sec1[['phid', 'hid', 'clust', 'nh', 'pid', 's1q2', 's1q5y', \n",
    "                     's1q14', 's1q18', 's1q22', 's1q10', 's1q6'\n",
    "                ]]"
   ],
   "outputs": [],
   "metadata": {}
  },
  {
   "cell_type": "code",
   "execution_count": 15,
   "source": [
    "df_sel_sec2 = g7sec2[['phid', 'clust', 'nh', 'pid','s2aq1','s2aq1b']]"
   ],
   "outputs": [],
   "metadata": {}
  },
  {
   "cell_type": "code",
   "execution_count": 16,
   "source": [
    "data = df_sel.merge(right=g7sec7j, on='phid', how='outer').merge(right=df_sel_sec2, \n",
    "                                                          how='outer',\n",
    "                                                          on='phid'\n",
    "                                                          )"
   ],
   "outputs": [],
   "metadata": {}
  },
  {
   "cell_type": "code",
   "execution_count": 17,
   "source": [
    "data = data.rename(columns={'s7jq1': 'weight',\n",
    "                     's7jq0': 'measured_or_not',\n",
    "                     's7jq2': 'measure_mode',\n",
    "                     's7jq3': 'Height',\n",
    "                     'loc2':'urbrur',\n",
    "                     's1q22':'months_away_from_hse',\n",
    "                     's1q14':'father_in_hse',\n",
    "                     's2aq1b':'highest_edu',\n",
    "                     's1q2':'sex',\n",
    "                     's1q18': 'mother_in_hse',\n",
    "                     's1q5y': 'age_years',\n",
    "                     's1q10': 'religion',\n",
    "                     's2aq1': 'attend_school',\n",
    "                     's1q6': 'marital_status'\n",
    "                     }\n",
    "            ).copy()"
   ],
   "outputs": [],
   "metadata": {}
  },
  {
   "cell_type": "code",
   "execution_count": 18,
   "source": [
    "data.info()"
   ],
   "outputs": [
    {
     "output_type": "stream",
     "name": "stdout",
     "text": [
      "<class 'pandas.core.frame.DataFrame'>\n",
      "Int64Index: 59864 entries, 0 to 59863\n",
      "Data columns (total 31 columns):\n",
      " #   Column                Non-Null Count  Dtype   \n",
      "---  ------                --------------  -----   \n",
      " 0   phid                  59864 non-null  object  \n",
      " 1   hid_x                 59864 non-null  object  \n",
      " 2   clust_x               59864 non-null  float64 \n",
      " 3   nh_x                  59864 non-null  float64 \n",
      " 4   pid_x                 59864 non-null  float64 \n",
      " 5   sex                   59864 non-null  category\n",
      " 6   age_years             59864 non-null  float64 \n",
      " 7   father_in_hse         59862 non-null  category\n",
      " 8   mother_in_hse         59863 non-null  category\n",
      " 9   months_away_from_hse  59864 non-null  float64 \n",
      " 10  religion              59864 non-null  category\n",
      " 11  marital_status        40831 non-null  category\n",
      " 12  clust_y               58804 non-null  float64 \n",
      " 13  nh_y                  58804 non-null  float64 \n",
      " 14  pid_y                 58804 non-null  float64 \n",
      " 15  sex                   58804 non-null  category\n",
      " 16  age_yrs               58804 non-null  float64 \n",
      " 17  age_mths              7549 non-null   float64 \n",
      " 18  measured_or_not       58803 non-null  category\n",
      " 19  weight                48393 non-null  float64 \n",
      " 20  measure_mode          48397 non-null  category\n",
      " 21  Height                48145 non-null  float64 \n",
      " 22  hid_y                 58804 non-null  object  \n",
      " 23  region                58804 non-null  category\n",
      " 24  urbrur                58804 non-null  category\n",
      " 25  WTA_S                 58804 non-null  float64 \n",
      " 26  clust                 54516 non-null  float64 \n",
      " 27  nh                    54516 non-null  float64 \n",
      " 28  pid                   54516 non-null  float64 \n",
      " 29  attend_school         54516 non-null  category\n",
      " 30  highest_edu           42844 non-null  category\n",
      "dtypes: category(12), float64(16), object(3)\n",
      "memory usage: 9.8+ MB\n"
     ]
    }
   ],
   "metadata": {}
  },
  {
   "cell_type": "code",
   "execution_count": 19,
   "source": [
    "data.describe()"
   ],
   "outputs": [
    {
     "output_type": "execute_result",
     "data": {
      "text/html": [
       "<div>\n",
       "<style scoped>\n",
       "    .dataframe tbody tr th:only-of-type {\n",
       "        vertical-align: middle;\n",
       "    }\n",
       "\n",
       "    .dataframe tbody tr th {\n",
       "        vertical-align: top;\n",
       "    }\n",
       "\n",
       "    .dataframe thead th {\n",
       "        text-align: right;\n",
       "    }\n",
       "</style>\n",
       "<table border=\"1\" class=\"dataframe\">\n",
       "  <thead>\n",
       "    <tr style=\"text-align: right;\">\n",
       "      <th></th>\n",
       "      <th>clust_x</th>\n",
       "      <th>nh_x</th>\n",
       "      <th>pid_x</th>\n",
       "      <th>age_years</th>\n",
       "      <th>months_away_from_hse</th>\n",
       "      <th>clust_y</th>\n",
       "      <th>nh_y</th>\n",
       "      <th>pid_y</th>\n",
       "      <th>age_yrs</th>\n",
       "      <th>age_mths</th>\n",
       "      <th>weight</th>\n",
       "      <th>Height</th>\n",
       "      <th>WTA_S</th>\n",
       "      <th>clust</th>\n",
       "      <th>nh</th>\n",
       "      <th>pid</th>\n",
       "    </tr>\n",
       "  </thead>\n",
       "  <tbody>\n",
       "    <tr>\n",
       "      <th>count</th>\n",
       "      <td>59864.000000</td>\n",
       "      <td>59864.000000</td>\n",
       "      <td>59864.000000</td>\n",
       "      <td>59864.000000</td>\n",
       "      <td>59864.000000</td>\n",
       "      <td>58804.000000</td>\n",
       "      <td>58804.000000</td>\n",
       "      <td>58804.000000</td>\n",
       "      <td>58804.000000</td>\n",
       "      <td>7549.000000</td>\n",
       "      <td>48393.000000</td>\n",
       "      <td>48145.000000</td>\n",
       "      <td>58804.000000</td>\n",
       "      <td>54516.000000</td>\n",
       "      <td>54516.000000</td>\n",
       "      <td>54516.000000</td>\n",
       "    </tr>\n",
       "    <tr>\n",
       "      <th>mean</th>\n",
       "      <td>70545.428688</td>\n",
       "      <td>7.998814</td>\n",
       "      <td>3.637762</td>\n",
       "      <td>24.997461</td>\n",
       "      <td>0.348423</td>\n",
       "      <td>70545.655466</td>\n",
       "      <td>8.003299</td>\n",
       "      <td>3.615162</td>\n",
       "      <td>25.051408</td>\n",
       "      <td>5.379653</td>\n",
       "      <td>46.470164</td>\n",
       "      <td>140.439831</td>\n",
       "      <td>474.122793</td>\n",
       "      <td>70545.050829</td>\n",
       "      <td>7.999817</td>\n",
       "      <td>3.446273</td>\n",
       "    </tr>\n",
       "    <tr>\n",
       "      <th>std</th>\n",
       "      <td>295.073851</td>\n",
       "      <td>4.320057</td>\n",
       "      <td>2.751767</td>\n",
       "      <td>20.289026</td>\n",
       "      <td>1.535261</td>\n",
       "      <td>295.070610</td>\n",
       "      <td>4.318244</td>\n",
       "      <td>2.736751</td>\n",
       "      <td>20.359195</td>\n",
       "      <td>3.498465</td>\n",
       "      <td>23.226349</td>\n",
       "      <td>35.129087</td>\n",
       "      <td>443.717750</td>\n",
       "      <td>295.615170</td>\n",
       "      <td>4.320843</td>\n",
       "      <td>2.652761</td>\n",
       "    </tr>\n",
       "    <tr>\n",
       "      <th>min</th>\n",
       "      <td>70001.000000</td>\n",
       "      <td>1.000000</td>\n",
       "      <td>1.000000</td>\n",
       "      <td>0.000000</td>\n",
       "      <td>0.000000</td>\n",
       "      <td>70001.000000</td>\n",
       "      <td>1.000000</td>\n",
       "      <td>1.000000</td>\n",
       "      <td>0.000000</td>\n",
       "      <td>0.000000</td>\n",
       "      <td>0.250000</td>\n",
       "      <td>10.000000</td>\n",
       "      <td>21.816969</td>\n",
       "      <td>70001.000000</td>\n",
       "      <td>1.000000</td>\n",
       "      <td>1.000000</td>\n",
       "    </tr>\n",
       "    <tr>\n",
       "      <th>25%</th>\n",
       "      <td>70297.000000</td>\n",
       "      <td>4.000000</td>\n",
       "      <td>2.000000</td>\n",
       "      <td>9.000000</td>\n",
       "      <td>0.000000</td>\n",
       "      <td>70297.000000</td>\n",
       "      <td>4.000000</td>\n",
       "      <td>2.000000</td>\n",
       "      <td>9.000000</td>\n",
       "      <td>2.000000</td>\n",
       "      <td>25.700001</td>\n",
       "      <td>122.000000</td>\n",
       "      <td>203.767820</td>\n",
       "      <td>70296.000000</td>\n",
       "      <td>4.000000</td>\n",
       "      <td>1.000000</td>\n",
       "    </tr>\n",
       "    <tr>\n",
       "      <th>50%</th>\n",
       "      <td>70579.000000</td>\n",
       "      <td>8.000000</td>\n",
       "      <td>3.000000</td>\n",
       "      <td>19.000000</td>\n",
       "      <td>0.000000</td>\n",
       "      <td>70579.000000</td>\n",
       "      <td>8.000000</td>\n",
       "      <td>3.000000</td>\n",
       "      <td>19.000000</td>\n",
       "      <td>5.000000</td>\n",
       "      <td>50.599998</td>\n",
       "      <td>155.000000</td>\n",
       "      <td>375.380188</td>\n",
       "      <td>70576.500000</td>\n",
       "      <td>8.000000</td>\n",
       "      <td>3.000000</td>\n",
       "    </tr>\n",
       "    <tr>\n",
       "      <th>75%</th>\n",
       "      <td>70799.000000</td>\n",
       "      <td>12.000000</td>\n",
       "      <td>5.000000</td>\n",
       "      <td>37.000000</td>\n",
       "      <td>0.000000</td>\n",
       "      <td>70799.000000</td>\n",
       "      <td>12.000000</td>\n",
       "      <td>5.000000</td>\n",
       "      <td>37.000000</td>\n",
       "      <td>8.000000</td>\n",
       "      <td>62.400002</td>\n",
       "      <td>165.000000</td>\n",
       "      <td>592.152266</td>\n",
       "      <td>70800.000000</td>\n",
       "      <td>12.000000</td>\n",
       "      <td>5.000000</td>\n",
       "    </tr>\n",
       "    <tr>\n",
       "      <th>max</th>\n",
       "      <td>71000.000000</td>\n",
       "      <td>15.000000</td>\n",
       "      <td>31.000000</td>\n",
       "      <td>99.000000</td>\n",
       "      <td>12.000000</td>\n",
       "      <td>71000.000000</td>\n",
       "      <td>15.000000</td>\n",
       "      <td>31.000000</td>\n",
       "      <td>99.000000</td>\n",
       "      <td>11.000000</td>\n",
       "      <td>222.000000</td>\n",
       "      <td>264.000000</td>\n",
       "      <td>6614.401149</td>\n",
       "      <td>71000.000000</td>\n",
       "      <td>15.000000</td>\n",
       "      <td>30.000000</td>\n",
       "    </tr>\n",
       "  </tbody>\n",
       "</table>\n",
       "</div>"
      ],
      "text/plain": [
       "            clust_x          nh_x         pid_x     age_years  \\\n",
       "count  59864.000000  59864.000000  59864.000000  59864.000000   \n",
       "mean   70545.428688      7.998814      3.637762     24.997461   \n",
       "std      295.073851      4.320057      2.751767     20.289026   \n",
       "min    70001.000000      1.000000      1.000000      0.000000   \n",
       "25%    70297.000000      4.000000      2.000000      9.000000   \n",
       "50%    70579.000000      8.000000      3.000000     19.000000   \n",
       "75%    70799.000000     12.000000      5.000000     37.000000   \n",
       "max    71000.000000     15.000000     31.000000     99.000000   \n",
       "\n",
       "       months_away_from_hse       clust_y          nh_y         pid_y  \\\n",
       "count          59864.000000  58804.000000  58804.000000  58804.000000   \n",
       "mean               0.348423  70545.655466      8.003299      3.615162   \n",
       "std                1.535261    295.070610      4.318244      2.736751   \n",
       "min                0.000000  70001.000000      1.000000      1.000000   \n",
       "25%                0.000000  70297.000000      4.000000      2.000000   \n",
       "50%                0.000000  70579.000000      8.000000      3.000000   \n",
       "75%                0.000000  70799.000000     12.000000      5.000000   \n",
       "max               12.000000  71000.000000     15.000000     31.000000   \n",
       "\n",
       "            age_yrs     age_mths        weight        Height         WTA_S  \\\n",
       "count  58804.000000  7549.000000  48393.000000  48145.000000  58804.000000   \n",
       "mean      25.051408     5.379653     46.470164    140.439831    474.122793   \n",
       "std       20.359195     3.498465     23.226349     35.129087    443.717750   \n",
       "min        0.000000     0.000000      0.250000     10.000000     21.816969   \n",
       "25%        9.000000     2.000000     25.700001    122.000000    203.767820   \n",
       "50%       19.000000     5.000000     50.599998    155.000000    375.380188   \n",
       "75%       37.000000     8.000000     62.400002    165.000000    592.152266   \n",
       "max       99.000000    11.000000    222.000000    264.000000   6614.401149   \n",
       "\n",
       "              clust            nh           pid  \n",
       "count  54516.000000  54516.000000  54516.000000  \n",
       "mean   70545.050829      7.999817      3.446273  \n",
       "std      295.615170      4.320843      2.652761  \n",
       "min    70001.000000      1.000000      1.000000  \n",
       "25%    70296.000000      4.000000      1.000000  \n",
       "50%    70576.500000      8.000000      3.000000  \n",
       "75%    70800.000000     12.000000      5.000000  \n",
       "max    71000.000000     15.000000     30.000000  "
      ]
     },
     "metadata": {},
     "execution_count": 19
    }
   ],
   "metadata": {}
  },
  {
   "cell_type": "code",
   "execution_count": 20,
   "source": [
    "data_mar_only = data.dropna(subset='marital_status')"
   ],
   "outputs": [],
   "metadata": {}
  },
  {
   "cell_type": "code",
   "execution_count": 21,
   "source": [
    "data_mar_only[['weight', 'Height', 'age_yrs']].info()"
   ],
   "outputs": [
    {
     "output_type": "stream",
     "name": "stdout",
     "text": [
      "<class 'pandas.core.frame.DataFrame'>\n",
      "Int64Index: 40831 entries, 0 to 59863\n",
      "Data columns (total 3 columns):\n",
      " #   Column   Non-Null Count  Dtype  \n",
      "---  ------   --------------  -----  \n",
      " 0   weight   32641 non-null  float64\n",
      " 1   Height   32603 non-null  float64\n",
      " 2   age_yrs  40050 non-null  float64\n",
      "dtypes: float64(3)\n",
      "memory usage: 1.2 MB\n"
     ]
    }
   ],
   "metadata": {}
  },
  {
   "cell_type": "code",
   "execution_count": 22,
   "source": [
    "from sklearn.preprocessing import LabelEncoder"
   ],
   "outputs": [],
   "metadata": {}
  },
  {
   "cell_type": "code",
   "execution_count": 23,
   "source": [
    "label_encoder = LabelEncoder()"
   ],
   "outputs": [],
   "metadata": {}
  },
  {
   "cell_type": "code",
   "execution_count": 24,
   "source": [
    "data_mar_only['marital_status_encode'] = label_encoder.fit_transform(data_mar_only['marital_status'])"
   ],
   "outputs": [
    {
     "output_type": "stream",
     "name": "stderr",
     "text": [
      "<ipython-input-24-fc301016bdda>:3: SettingWithCopyWarning: \n",
      "A value is trying to be set on a copy of a slice from a DataFrame.\n",
      "Try using .loc[row_indexer,col_indexer] = value instead\n",
      "\n",
      "See the caveats in the documentation: https://pandas.pydata.org/pandas-docs/stable/user_guide/indexing.html#returning-a-view-versus-a-copy\n",
      "  data_mar_only['marital_status_encode'] = label_encoder.fit_transform(data_mar_only['marital_status'])\n"
     ]
    }
   ],
   "metadata": {}
  },
  {
   "cell_type": "code",
   "execution_count": 25,
   "source": [
    "from sklearn.ensemble import HistGradientBoostingClassifier,BaggingClassifier\n",
    "from sklearn.model_selection import train_test_split\n",
    "from sklearn.metrics import (accuracy_score,classification_report,\n",
    "                             roc_auc_score,precision_score,\n",
    "                             recall_score,roc_curve,\n",
    "                             balanced_accuracy_score\n",
    "                             )\n",
    "#from sklearn."
   ],
   "outputs": [],
   "metadata": {}
  },
  {
   "cell_type": "code",
   "execution_count": 26,
   "source": [
    "X = data_mar_only[['weight', 'Height', 'age_yrs']]\n",
    "\n",
    "y = data_mar_only[['marital_status_encode']]"
   ],
   "outputs": [],
   "metadata": {}
  },
  {
   "cell_type": "code",
   "execution_count": 27,
   "source": [
    "X_train, X_test, y_train, y_test = train_test_split(X, y, random_state=2023, \n",
    "                                                    stratify=y['marital_status_encode'],\n",
    "                                                    test_size=.3 #shuffle=True\n",
    "                                                    )"
   ],
   "outputs": [],
   "metadata": {}
  },
  {
   "cell_type": "code",
   "execution_count": 28,
   "source": [
    "histgb = HistGradientBoostingClassifier(class_weight='balanced')"
   ],
   "outputs": [],
   "metadata": {}
  },
  {
   "cell_type": "code",
   "execution_count": 29,
   "source": [
    "histgb.fit(X_train, y_train)"
   ],
   "outputs": [
    {
     "output_type": "stream",
     "name": "stderr",
     "text": [
      "/Users/lin/Documents/python_venvs/ml_with_python/env_ml_python/lib/python3.9/site-packages/sklearn/utils/validation.py:1143: DataConversionWarning: A column-vector y was passed when a 1d array was expected. Please change the shape of y to (n_samples, ), for example using ravel().\n",
      "  y = column_or_1d(y, warn=True)\n"
     ]
    },
    {
     "output_type": "execute_result",
     "data": {
      "text/html": [
       "<style>#sk-container-id-1 {color: black;background-color: white;}#sk-container-id-1 pre{padding: 0;}#sk-container-id-1 div.sk-toggleable {background-color: white;}#sk-container-id-1 label.sk-toggleable__label {cursor: pointer;display: block;width: 100%;margin-bottom: 0;padding: 0.3em;box-sizing: border-box;text-align: center;}#sk-container-id-1 label.sk-toggleable__label-arrow:before {content: \"▸\";float: left;margin-right: 0.25em;color: #696969;}#sk-container-id-1 label.sk-toggleable__label-arrow:hover:before {color: black;}#sk-container-id-1 div.sk-estimator:hover label.sk-toggleable__label-arrow:before {color: black;}#sk-container-id-1 div.sk-toggleable__content {max-height: 0;max-width: 0;overflow: hidden;text-align: left;background-color: #f0f8ff;}#sk-container-id-1 div.sk-toggleable__content pre {margin: 0.2em;color: black;border-radius: 0.25em;background-color: #f0f8ff;}#sk-container-id-1 input.sk-toggleable__control:checked~div.sk-toggleable__content {max-height: 200px;max-width: 100%;overflow: auto;}#sk-container-id-1 input.sk-toggleable__control:checked~label.sk-toggleable__label-arrow:before {content: \"▾\";}#sk-container-id-1 div.sk-estimator input.sk-toggleable__control:checked~label.sk-toggleable__label {background-color: #d4ebff;}#sk-container-id-1 div.sk-label input.sk-toggleable__control:checked~label.sk-toggleable__label {background-color: #d4ebff;}#sk-container-id-1 input.sk-hidden--visually {border: 0;clip: rect(1px 1px 1px 1px);clip: rect(1px, 1px, 1px, 1px);height: 1px;margin: -1px;overflow: hidden;padding: 0;position: absolute;width: 1px;}#sk-container-id-1 div.sk-estimator {font-family: monospace;background-color: #f0f8ff;border: 1px dotted black;border-radius: 0.25em;box-sizing: border-box;margin-bottom: 0.5em;}#sk-container-id-1 div.sk-estimator:hover {background-color: #d4ebff;}#sk-container-id-1 div.sk-parallel-item::after {content: \"\";width: 100%;border-bottom: 1px solid gray;flex-grow: 1;}#sk-container-id-1 div.sk-label:hover label.sk-toggleable__label {background-color: #d4ebff;}#sk-container-id-1 div.sk-serial::before {content: \"\";position: absolute;border-left: 1px solid gray;box-sizing: border-box;top: 0;bottom: 0;left: 50%;z-index: 0;}#sk-container-id-1 div.sk-serial {display: flex;flex-direction: column;align-items: center;background-color: white;padding-right: 0.2em;padding-left: 0.2em;position: relative;}#sk-container-id-1 div.sk-item {position: relative;z-index: 1;}#sk-container-id-1 div.sk-parallel {display: flex;align-items: stretch;justify-content: center;background-color: white;position: relative;}#sk-container-id-1 div.sk-item::before, #sk-container-id-1 div.sk-parallel-item::before {content: \"\";position: absolute;border-left: 1px solid gray;box-sizing: border-box;top: 0;bottom: 0;left: 50%;z-index: -1;}#sk-container-id-1 div.sk-parallel-item {display: flex;flex-direction: column;z-index: 1;position: relative;background-color: white;}#sk-container-id-1 div.sk-parallel-item:first-child::after {align-self: flex-end;width: 50%;}#sk-container-id-1 div.sk-parallel-item:last-child::after {align-self: flex-start;width: 50%;}#sk-container-id-1 div.sk-parallel-item:only-child::after {width: 0;}#sk-container-id-1 div.sk-dashed-wrapped {border: 1px dashed gray;margin: 0 0.4em 0.5em 0.4em;box-sizing: border-box;padding-bottom: 0.4em;background-color: white;}#sk-container-id-1 div.sk-label label {font-family: monospace;font-weight: bold;display: inline-block;line-height: 1.2em;}#sk-container-id-1 div.sk-label-container {text-align: center;}#sk-container-id-1 div.sk-container {/* jupyter's `normalize.less` sets `[hidden] { display: none; }` but bootstrap.min.css set `[hidden] { display: none !important; }` so we also need the `!important` here to be able to override the default hidden behavior on the sphinx rendered scikit-learn.org. See: https://github.com/scikit-learn/scikit-learn/issues/21755 */display: inline-block !important;position: relative;}#sk-container-id-1 div.sk-text-repr-fallback {display: none;}</style><div id=\"sk-container-id-1\" class=\"sk-top-container\"><div class=\"sk-text-repr-fallback\"><pre>HistGradientBoostingClassifier(class_weight=&#x27;balanced&#x27;)</pre><b>In a Jupyter environment, please rerun this cell to show the HTML representation or trust the notebook. <br />On GitHub, the HTML representation is unable to render, please try loading this page with nbviewer.org.</b></div><div class=\"sk-container\" hidden><div class=\"sk-item\"><div class=\"sk-estimator sk-toggleable\"><input class=\"sk-toggleable__control sk-hidden--visually\" id=\"sk-estimator-id-1\" type=\"checkbox\" checked><label for=\"sk-estimator-id-1\" class=\"sk-toggleable__label sk-toggleable__label-arrow\">HistGradientBoostingClassifier</label><div class=\"sk-toggleable__content\"><pre>HistGradientBoostingClassifier(class_weight=&#x27;balanced&#x27;)</pre></div></div></div></div></div>"
      ],
      "text/plain": [
       "HistGradientBoostingClassifier(class_weight='balanced')"
      ]
     },
     "metadata": {},
     "execution_count": 29
    }
   ],
   "metadata": {}
  },
  {
   "cell_type": "code",
   "execution_count": 30,
   "source": [
    "accuracy_score(y_true=y_train, y_pred=histgb.predict(X_train))"
   ],
   "outputs": [
    {
     "output_type": "execute_result",
     "data": {
      "text/plain": [
       "0.5438228193555159"
      ]
     },
     "metadata": {},
     "execution_count": 30
    }
   ],
   "metadata": {}
  },
  {
   "cell_type": "code",
   "execution_count": 31,
   "source": [
    "accuracy_score(y_true=y_test, y_pred=histgb.predict(X_test))"
   ],
   "outputs": [
    {
     "output_type": "execute_result",
     "data": {
      "text/plain": [
       "0.5028571428571429"
      ]
     },
     "metadata": {},
     "execution_count": 31
    }
   ],
   "metadata": {}
  },
  {
   "cell_type": "code",
   "execution_count": 32,
   "source": [
    "data[['sex']]"
   ],
   "outputs": [
    {
     "output_type": "execute_result",
     "data": {
      "text/html": [
       "<div>\n",
       "<style scoped>\n",
       "    .dataframe tbody tr th:only-of-type {\n",
       "        vertical-align: middle;\n",
       "    }\n",
       "\n",
       "    .dataframe tbody tr th {\n",
       "        vertical-align: top;\n",
       "    }\n",
       "\n",
       "    .dataframe thead th {\n",
       "        text-align: right;\n",
       "    }\n",
       "</style>\n",
       "<table border=\"1\" class=\"dataframe\">\n",
       "  <thead>\n",
       "    <tr style=\"text-align: right;\">\n",
       "      <th></th>\n",
       "      <th>sex</th>\n",
       "      <th>sex</th>\n",
       "    </tr>\n",
       "  </thead>\n",
       "  <tbody>\n",
       "    <tr>\n",
       "      <th>0</th>\n",
       "      <td>Female</td>\n",
       "      <td>Female</td>\n",
       "    </tr>\n",
       "    <tr>\n",
       "      <th>1</th>\n",
       "      <td>Male</td>\n",
       "      <td>Male</td>\n",
       "    </tr>\n",
       "    <tr>\n",
       "      <th>2</th>\n",
       "      <td>Female</td>\n",
       "      <td>Female</td>\n",
       "    </tr>\n",
       "    <tr>\n",
       "      <th>3</th>\n",
       "      <td>Male</td>\n",
       "      <td>Male</td>\n",
       "    </tr>\n",
       "    <tr>\n",
       "      <th>4</th>\n",
       "      <td>Female</td>\n",
       "      <td>Female</td>\n",
       "    </tr>\n",
       "    <tr>\n",
       "      <th>...</th>\n",
       "      <td>...</td>\n",
       "      <td>...</td>\n",
       "    </tr>\n",
       "    <tr>\n",
       "      <th>59859</th>\n",
       "      <td>Female</td>\n",
       "      <td>Female</td>\n",
       "    </tr>\n",
       "    <tr>\n",
       "      <th>59860</th>\n",
       "      <td>Male</td>\n",
       "      <td>Male</td>\n",
       "    </tr>\n",
       "    <tr>\n",
       "      <th>59861</th>\n",
       "      <td>Male</td>\n",
       "      <td>Male</td>\n",
       "    </tr>\n",
       "    <tr>\n",
       "      <th>59862</th>\n",
       "      <td>Male</td>\n",
       "      <td>Male</td>\n",
       "    </tr>\n",
       "    <tr>\n",
       "      <th>59863</th>\n",
       "      <td>Male</td>\n",
       "      <td>Male</td>\n",
       "    </tr>\n",
       "  </tbody>\n",
       "</table>\n",
       "<p>59864 rows × 2 columns</p>\n",
       "</div>"
      ],
      "text/plain": [
       "          sex     sex\n",
       "0      Female  Female\n",
       "1        Male    Male\n",
       "2      Female  Female\n",
       "3        Male    Male\n",
       "4      Female  Female\n",
       "...       ...     ...\n",
       "59859  Female  Female\n",
       "59860    Male    Male\n",
       "59861    Male    Male\n",
       "59862    Male    Male\n",
       "59863    Male    Male\n",
       "\n",
       "[59864 rows x 2 columns]"
      ]
     },
     "metadata": {},
     "execution_count": 32
    }
   ],
   "metadata": {}
  },
  {
   "cell_type": "code",
   "execution_count": 33,
   "source": [
    "data.columns"
   ],
   "outputs": [
    {
     "output_type": "execute_result",
     "data": {
      "text/plain": [
       "Index(['phid', 'hid_x', 'clust_x', 'nh_x', 'pid_x', 'sex', 'age_years',\n",
       "       'father_in_hse', 'mother_in_hse', 'months_away_from_hse', 'religion',\n",
       "       'marital_status', 'clust_y', 'nh_y', 'pid_y', 'sex', 'age_yrs',\n",
       "       'age_mths', 'measured_or_not', 'weight', 'measure_mode', 'Height',\n",
       "       'hid_y', 'region', 'urbrur', 'WTA_S', 'clust', 'nh', 'pid',\n",
       "       'attend_school', 'highest_edu'],\n",
       "      dtype='object')"
      ]
     },
     "metadata": {},
     "execution_count": 33
    }
   ],
   "metadata": {}
  },
  {
   "cell_type": "code",
   "execution_count": 34,
   "source": [
    "data = df_sel.merge(right=g7sec7j, on='phid', how='outer')"
   ],
   "outputs": [],
   "metadata": {}
  },
  {
   "cell_type": "code",
   "execution_count": 35,
   "source": [
    "data.columns"
   ],
   "outputs": [
    {
     "output_type": "execute_result",
     "data": {
      "text/plain": [
       "Index(['phid', 'hid_x', 'clust_x', 'nh_x', 'pid_x', 's1q2', 's1q5y', 's1q14',\n",
       "       's1q18', 's1q22', 's1q10', 's1q6', 'clust_y', 'nh_y', 'pid_y', 'sex',\n",
       "       'age_yrs', 'age_mths', 's7jq0', 's7jq1', 's7jq2', 's7jq3', 'hid_y',\n",
       "       'region', 'loc2', 'WTA_S'],\n",
       "      dtype='object')"
      ]
     },
     "metadata": {},
     "execution_count": 35
    }
   ],
   "metadata": {}
  },
  {
   "cell_type": "code",
   "execution_count": 36,
   "source": [
    "data = data.merge(right=df_sel_sec2, \n",
    "                  how='outer',\n",
    "                  on='phid'\n",
    "               )"
   ],
   "outputs": [],
   "metadata": {}
  },
  {
   "cell_type": "code",
   "execution_count": 37,
   "source": [
    "data = data.rename(columns={'s7jq1': 'weight',\n",
    "                     's7jq0': 'measured_or_not',\n",
    "                     's7jq2': 'measure_mode',\n",
    "                     's7jq3': 'Height',\n",
    "                     'loc2':'urbrur',\n",
    "                     's1q22':'months_away_from_hse',\n",
    "                     's1q14':'father_in_hse',\n",
    "                     's2aq1b':'highest_edu',\n",
    "                     's1q2':'sex',\n",
    "                     's1q18': 'mother_in_hse',\n",
    "                     's1q5y': 'age_years',\n",
    "                     's1q10': 'religion',\n",
    "                     's2aq1': 'attend_school',\n",
    "                     's1q6': 'marital_status'\n",
    "                     }\n",
    "            ).copy()"
   ],
   "outputs": [],
   "metadata": {}
  },
  {
   "cell_type": "code",
   "execution_count": 38,
   "source": [
    "data.info()"
   ],
   "outputs": [
    {
     "output_type": "stream",
     "name": "stdout",
     "text": [
      "<class 'pandas.core.frame.DataFrame'>\n",
      "Int64Index: 59864 entries, 0 to 59863\n",
      "Data columns (total 31 columns):\n",
      " #   Column                Non-Null Count  Dtype   \n",
      "---  ------                --------------  -----   \n",
      " 0   phid                  59864 non-null  object  \n",
      " 1   hid_x                 59864 non-null  object  \n",
      " 2   clust_x               59864 non-null  float64 \n",
      " 3   nh_x                  59864 non-null  float64 \n",
      " 4   pid_x                 59864 non-null  float64 \n",
      " 5   sex                   59864 non-null  category\n",
      " 6   age_years             59864 non-null  float64 \n",
      " 7   father_in_hse         59862 non-null  category\n",
      " 8   mother_in_hse         59863 non-null  category\n",
      " 9   months_away_from_hse  59864 non-null  float64 \n",
      " 10  religion              59864 non-null  category\n",
      " 11  marital_status        40831 non-null  category\n",
      " 12  clust_y               58804 non-null  float64 \n",
      " 13  nh_y                  58804 non-null  float64 \n",
      " 14  pid_y                 58804 non-null  float64 \n",
      " 15  sex                   58804 non-null  category\n",
      " 16  age_yrs               58804 non-null  float64 \n",
      " 17  age_mths              7549 non-null   float64 \n",
      " 18  measured_or_not       58803 non-null  category\n",
      " 19  weight                48393 non-null  float64 \n",
      " 20  measure_mode          48397 non-null  category\n",
      " 21  Height                48145 non-null  float64 \n",
      " 22  hid_y                 58804 non-null  object  \n",
      " 23  region                58804 non-null  category\n",
      " 24  urbrur                58804 non-null  category\n",
      " 25  WTA_S                 58804 non-null  float64 \n",
      " 26  clust                 54516 non-null  float64 \n",
      " 27  nh                    54516 non-null  float64 \n",
      " 28  pid                   54516 non-null  float64 \n",
      " 29  attend_school         54516 non-null  category\n",
      " 30  highest_edu           42844 non-null  category\n",
      "dtypes: category(12), float64(16), object(3)\n",
      "memory usage: 9.8+ MB\n"
     ]
    }
   ],
   "metadata": {}
  },
  {
   "cell_type": "code",
   "execution_count": 39,
   "source": [
    "data = df_sel.merge(right=g7sec7j, on='phid', how='outer')"
   ],
   "outputs": [],
   "metadata": {}
  },
  {
   "cell_type": "code",
   "execution_count": 40,
   "source": [
    "data = data.merge(right=df_sel_sec2, \n",
    "                  how='outer',\n",
    "                  on='phid'\n",
    "               )"
   ],
   "outputs": [],
   "metadata": {}
  },
  {
   "cell_type": "code",
   "execution_count": 41,
   "source": [
    "data = data.rename(columns={'s7jq1': 'weight',\n",
    "                     's7jq0': 'measured_or_not',\n",
    "                     's7jq2': 'measure_mode',\n",
    "                     's7jq3': 'Height',\n",
    "                     'loc2':'urbrur',\n",
    "                     's1q22':'months_away_from_hse',\n",
    "                     's1q14':'father_in_hse',\n",
    "                     's2aq1b':'highest_edu',\n",
    "                     #'s1q2':'sex',\n",
    "                     's1q18': 'mother_in_hse',\n",
    "                     's1q5y': 'age_years',\n",
    "                     's1q10': 'religion',\n",
    "                     's2aq1': 'attend_school',\n",
    "                     's1q6': 'marital_status'\n",
    "                     }\n",
    "            ).copy()"
   ],
   "outputs": [],
   "metadata": {}
  },
  {
   "cell_type": "code",
   "execution_count": 42,
   "source": [
    "data.info()"
   ],
   "outputs": [
    {
     "output_type": "stream",
     "name": "stdout",
     "text": [
      "<class 'pandas.core.frame.DataFrame'>\n",
      "Int64Index: 59864 entries, 0 to 59863\n",
      "Data columns (total 31 columns):\n",
      " #   Column                Non-Null Count  Dtype   \n",
      "---  ------                --------------  -----   \n",
      " 0   phid                  59864 non-null  object  \n",
      " 1   hid_x                 59864 non-null  object  \n",
      " 2   clust_x               59864 non-null  float64 \n",
      " 3   nh_x                  59864 non-null  float64 \n",
      " 4   pid_x                 59864 non-null  float64 \n",
      " 5   s1q2                  59864 non-null  category\n",
      " 6   age_years             59864 non-null  float64 \n",
      " 7   father_in_hse         59862 non-null  category\n",
      " 8   mother_in_hse         59863 non-null  category\n",
      " 9   months_away_from_hse  59864 non-null  float64 \n",
      " 10  religion              59864 non-null  category\n",
      " 11  marital_status        40831 non-null  category\n",
      " 12  clust_y               58804 non-null  float64 \n",
      " 13  nh_y                  58804 non-null  float64 \n",
      " 14  pid_y                 58804 non-null  float64 \n",
      " 15  sex                   58804 non-null  category\n",
      " 16  age_yrs               58804 non-null  float64 \n",
      " 17  age_mths              7549 non-null   float64 \n",
      " 18  measured_or_not       58803 non-null  category\n",
      " 19  weight                48393 non-null  float64 \n",
      " 20  measure_mode          48397 non-null  category\n",
      " 21  Height                48145 non-null  float64 \n",
      " 22  hid_y                 58804 non-null  object  \n",
      " 23  region                58804 non-null  category\n",
      " 24  urbrur                58804 non-null  category\n",
      " 25  WTA_S                 58804 non-null  float64 \n",
      " 26  clust                 54516 non-null  float64 \n",
      " 27  nh                    54516 non-null  float64 \n",
      " 28  pid                   54516 non-null  float64 \n",
      " 29  attend_school         54516 non-null  category\n",
      " 30  highest_edu           42844 non-null  category\n",
      "dtypes: category(12), float64(16), object(3)\n",
      "memory usage: 9.8+ MB\n"
     ]
    }
   ],
   "metadata": {}
  },
  {
   "cell_type": "code",
   "execution_count": 43,
   "source": [
    "df_sel.info()"
   ],
   "outputs": [
    {
     "output_type": "stream",
     "name": "stdout",
     "text": [
      "<class 'pandas.core.frame.DataFrame'>\n",
      "RangeIndex: 59864 entries, 0 to 59863\n",
      "Data columns (total 12 columns):\n",
      " #   Column  Non-Null Count  Dtype   \n",
      "---  ------  --------------  -----   \n",
      " 0   phid    59864 non-null  object  \n",
      " 1   hid     59864 non-null  object  \n",
      " 2   clust   59864 non-null  float64 \n",
      " 3   nh      59864 non-null  float64 \n",
      " 4   pid     59864 non-null  float64 \n",
      " 5   s1q2    59864 non-null  category\n",
      " 6   s1q5y   59864 non-null  float64 \n",
      " 7   s1q14   59862 non-null  category\n",
      " 8   s1q18   59863 non-null  category\n",
      " 9   s1q22   59864 non-null  float64 \n",
      " 10  s1q10   59864 non-null  category\n",
      " 11  s1q6    40831 non-null  category\n",
      "dtypes: category(5), float64(5), object(2)\n",
      "memory usage: 3.5+ MB\n"
     ]
    }
   ],
   "metadata": {}
  },
  {
   "cell_type": "code",
   "execution_count": 44,
   "source": [
    "g7sec7j.info()"
   ],
   "outputs": [
    {
     "output_type": "stream",
     "name": "stdout",
     "text": [
      "<class 'pandas.core.frame.DataFrame'>\n",
      "RangeIndex: 58804 entries, 0 to 58803\n",
      "Data columns (total 15 columns):\n",
      " #   Column    Non-Null Count  Dtype   \n",
      "---  ------    --------------  -----   \n",
      " 0   phid      58804 non-null  object  \n",
      " 1   clust     58804 non-null  float64 \n",
      " 2   nh        58804 non-null  float64 \n",
      " 3   pid       58804 non-null  float64 \n",
      " 4   sex       58804 non-null  category\n",
      " 5   age_yrs   58804 non-null  float64 \n",
      " 6   age_mths  7549 non-null   float64 \n",
      " 7   s7jq0     58803 non-null  category\n",
      " 8   s7jq1     48393 non-null  float64 \n",
      " 9   s7jq2     48397 non-null  category\n",
      " 10  s7jq3     48145 non-null  float64 \n",
      " 11  hid       58804 non-null  object  \n",
      " 12  region    58804 non-null  category\n",
      " 13  loc2      58804 non-null  category\n",
      " 14  WTA_S     58804 non-null  float64 \n",
      "dtypes: category(5), float64(8), object(2)\n",
      "memory usage: 4.8+ MB\n"
     ]
    }
   ],
   "metadata": {}
  },
  {
   "cell_type": "code",
   "execution_count": 45,
   "source": [
    "df_sel_sec2.info()"
   ],
   "outputs": [
    {
     "output_type": "stream",
     "name": "stdout",
     "text": [
      "<class 'pandas.core.frame.DataFrame'>\n",
      "RangeIndex: 54516 entries, 0 to 54515\n",
      "Data columns (total 6 columns):\n",
      " #   Column  Non-Null Count  Dtype   \n",
      "---  ------  --------------  -----   \n",
      " 0   phid    54516 non-null  object  \n",
      " 1   clust   54516 non-null  float64 \n",
      " 2   nh      54516 non-null  float64 \n",
      " 3   pid     54516 non-null  float64 \n",
      " 4   s2aq1   54516 non-null  category\n",
      " 5   s2aq1b  42844 non-null  category\n",
      "dtypes: category(2), float64(3), object(1)\n",
      "memory usage: 1.8+ MB\n"
     ]
    }
   ],
   "metadata": {}
  },
  {
   "cell_type": "code",
   "execution_count": 46,
   "source": [
    "df_sel = df_g7sec1[['phid', 'hid', 'clust', 'nh', 'pid', #'s1q2', \n",
    "                    's1q5y', \n",
    "                     's1q14', 's1q18', 's1q22', 's1q10', 's1q6'\n",
    "                ]]"
   ],
   "outputs": [],
   "metadata": {}
  },
  {
   "cell_type": "code",
   "execution_count": 47,
   "source": [
    "df_sel_sec2 = g7sec2[['phid', 'clust', 'nh', 'pid','s2aq1','s2aq1b']]"
   ],
   "outputs": [],
   "metadata": {}
  },
  {
   "cell_type": "code",
   "execution_count": 48,
   "source": [
    "data = df_sel.merge(right=g7sec7j, on='phid', how='outer')"
   ],
   "outputs": [],
   "metadata": {}
  },
  {
   "cell_type": "code",
   "execution_count": 49,
   "source": [
    "data = data.merge(right=df_sel_sec2, \n",
    "                  how='outer',\n",
    "                  on='phid'\n",
    "               )"
   ],
   "outputs": [],
   "metadata": {}
  },
  {
   "cell_type": "code",
   "execution_count": 50,
   "source": [
    "data.info()"
   ],
   "outputs": [
    {
     "output_type": "stream",
     "name": "stdout",
     "text": [
      "<class 'pandas.core.frame.DataFrame'>\n",
      "Int64Index: 59864 entries, 0 to 59863\n",
      "Data columns (total 30 columns):\n",
      " #   Column    Non-Null Count  Dtype   \n",
      "---  ------    --------------  -----   \n",
      " 0   phid      59864 non-null  object  \n",
      " 1   hid_x     59864 non-null  object  \n",
      " 2   clust_x   59864 non-null  float64 \n",
      " 3   nh_x      59864 non-null  float64 \n",
      " 4   pid_x     59864 non-null  float64 \n",
      " 5   s1q5y     59864 non-null  float64 \n",
      " 6   s1q14     59862 non-null  category\n",
      " 7   s1q18     59863 non-null  category\n",
      " 8   s1q22     59864 non-null  float64 \n",
      " 9   s1q10     59864 non-null  category\n",
      " 10  s1q6      40831 non-null  category\n",
      " 11  clust_y   58804 non-null  float64 \n",
      " 12  nh_y      58804 non-null  float64 \n",
      " 13  pid_y     58804 non-null  float64 \n",
      " 14  sex       58804 non-null  category\n",
      " 15  age_yrs   58804 non-null  float64 \n",
      " 16  age_mths  7549 non-null   float64 \n",
      " 17  s7jq0     58803 non-null  category\n",
      " 18  s7jq1     48393 non-null  float64 \n",
      " 19  s7jq2     48397 non-null  category\n",
      " 20  s7jq3     48145 non-null  float64 \n",
      " 21  hid_y     58804 non-null  object  \n",
      " 22  region    58804 non-null  category\n",
      " 23  loc2      58804 non-null  category\n",
      " 24  WTA_S     58804 non-null  float64 \n",
      " 25  clust     54516 non-null  float64 \n",
      " 26  nh        54516 non-null  float64 \n",
      " 27  pid       54516 non-null  float64 \n",
      " 28  s2aq1     54516 non-null  category\n",
      " 29  s2aq1b    42844 non-null  category\n",
      "dtypes: category(11), float64(16), object(3)\n",
      "memory usage: 9.8+ MB\n"
     ]
    }
   ],
   "metadata": {}
  },
  {
   "cell_type": "code",
   "execution_count": 51,
   "source": [
    "data = data.rename(columns={'s7jq1': 'weight',\n",
    "                     's7jq0': 'measured_or_not',\n",
    "                     's7jq2': 'measure_mode',\n",
    "                     's7jq3': 'Height',\n",
    "                     'loc2':'urbrur',\n",
    "                     's1q22':'months_away_from_hse',\n",
    "                     's1q14':'father_in_hse',\n",
    "                     's2aq1b':'highest_edu',\n",
    "                     #'s1q2':'sex',\n",
    "                     's1q18': 'mother_in_hse',\n",
    "                     's1q5y': 'age_years',\n",
    "                     's1q10': 'religion',\n",
    "                     's2aq1': 'attend_school',\n",
    "                     's1q6': 'marital_status'\n",
    "                     }\n",
    "            ).copy()"
   ],
   "outputs": [],
   "metadata": {}
  },
  {
   "cell_type": "code",
   "execution_count": 52,
   "source": [
    "data.info()"
   ],
   "outputs": [
    {
     "output_type": "stream",
     "name": "stdout",
     "text": [
      "<class 'pandas.core.frame.DataFrame'>\n",
      "Int64Index: 59864 entries, 0 to 59863\n",
      "Data columns (total 30 columns):\n",
      " #   Column                Non-Null Count  Dtype   \n",
      "---  ------                --------------  -----   \n",
      " 0   phid                  59864 non-null  object  \n",
      " 1   hid_x                 59864 non-null  object  \n",
      " 2   clust_x               59864 non-null  float64 \n",
      " 3   nh_x                  59864 non-null  float64 \n",
      " 4   pid_x                 59864 non-null  float64 \n",
      " 5   age_years             59864 non-null  float64 \n",
      " 6   father_in_hse         59862 non-null  category\n",
      " 7   mother_in_hse         59863 non-null  category\n",
      " 8   months_away_from_hse  59864 non-null  float64 \n",
      " 9   religion              59864 non-null  category\n",
      " 10  marital_status        40831 non-null  category\n",
      " 11  clust_y               58804 non-null  float64 \n",
      " 12  nh_y                  58804 non-null  float64 \n",
      " 13  pid_y                 58804 non-null  float64 \n",
      " 14  sex                   58804 non-null  category\n",
      " 15  age_yrs               58804 non-null  float64 \n",
      " 16  age_mths              7549 non-null   float64 \n",
      " 17  measured_or_not       58803 non-null  category\n",
      " 18  weight                48393 non-null  float64 \n",
      " 19  measure_mode          48397 non-null  category\n",
      " 20  Height                48145 non-null  float64 \n",
      " 21  hid_y                 58804 non-null  object  \n",
      " 22  region                58804 non-null  category\n",
      " 23  urbrur                58804 non-null  category\n",
      " 24  WTA_S                 58804 non-null  float64 \n",
      " 25  clust                 54516 non-null  float64 \n",
      " 26  nh                    54516 non-null  float64 \n",
      " 27  pid                   54516 non-null  float64 \n",
      " 28  attend_school         54516 non-null  category\n",
      " 29  highest_edu           42844 non-null  category\n",
      "dtypes: category(11), float64(16), object(3)\n",
      "memory usage: 9.8+ MB\n"
     ]
    }
   ],
   "metadata": {}
  },
  {
   "cell_type": "code",
   "execution_count": 53,
   "source": [
    "data.columns"
   ],
   "outputs": [
    {
     "output_type": "execute_result",
     "data": {
      "text/plain": [
       "Index(['phid', 'hid_x', 'clust_x', 'nh_x', 'pid_x', 'age_years',\n",
       "       'father_in_hse', 'mother_in_hse', 'months_away_from_hse', 'religion',\n",
       "       'marital_status', 'clust_y', 'nh_y', 'pid_y', 'sex', 'age_yrs',\n",
       "       'age_mths', 'measured_or_not', 'weight', 'measure_mode', 'Height',\n",
       "       'hid_y', 'region', 'urbrur', 'WTA_S', 'clust', 'nh', 'pid',\n",
       "       'attend_school', 'highest_edu'],\n",
       "      dtype='object')"
      ]
     },
     "metadata": {},
     "execution_count": 53
    }
   ],
   "metadata": {}
  },
  {
   "cell_type": "code",
   "execution_count": 54,
   "source": [
    "data.describe()"
   ],
   "outputs": [
    {
     "output_type": "execute_result",
     "data": {
      "text/html": [
       "<div>\n",
       "<style scoped>\n",
       "    .dataframe tbody tr th:only-of-type {\n",
       "        vertical-align: middle;\n",
       "    }\n",
       "\n",
       "    .dataframe tbody tr th {\n",
       "        vertical-align: top;\n",
       "    }\n",
       "\n",
       "    .dataframe thead th {\n",
       "        text-align: right;\n",
       "    }\n",
       "</style>\n",
       "<table border=\"1\" class=\"dataframe\">\n",
       "  <thead>\n",
       "    <tr style=\"text-align: right;\">\n",
       "      <th></th>\n",
       "      <th>clust_x</th>\n",
       "      <th>nh_x</th>\n",
       "      <th>pid_x</th>\n",
       "      <th>age_years</th>\n",
       "      <th>months_away_from_hse</th>\n",
       "      <th>clust_y</th>\n",
       "      <th>nh_y</th>\n",
       "      <th>pid_y</th>\n",
       "      <th>age_yrs</th>\n",
       "      <th>age_mths</th>\n",
       "      <th>weight</th>\n",
       "      <th>Height</th>\n",
       "      <th>WTA_S</th>\n",
       "      <th>clust</th>\n",
       "      <th>nh</th>\n",
       "      <th>pid</th>\n",
       "    </tr>\n",
       "  </thead>\n",
       "  <tbody>\n",
       "    <tr>\n",
       "      <th>count</th>\n",
       "      <td>59864.000000</td>\n",
       "      <td>59864.000000</td>\n",
       "      <td>59864.000000</td>\n",
       "      <td>59864.000000</td>\n",
       "      <td>59864.000000</td>\n",
       "      <td>58804.000000</td>\n",
       "      <td>58804.000000</td>\n",
       "      <td>58804.000000</td>\n",
       "      <td>58804.000000</td>\n",
       "      <td>7549.000000</td>\n",
       "      <td>48393.000000</td>\n",
       "      <td>48145.000000</td>\n",
       "      <td>58804.000000</td>\n",
       "      <td>54516.000000</td>\n",
       "      <td>54516.000000</td>\n",
       "      <td>54516.000000</td>\n",
       "    </tr>\n",
       "    <tr>\n",
       "      <th>mean</th>\n",
       "      <td>70545.428688</td>\n",
       "      <td>7.998814</td>\n",
       "      <td>3.637762</td>\n",
       "      <td>24.997461</td>\n",
       "      <td>0.348423</td>\n",
       "      <td>70545.655466</td>\n",
       "      <td>8.003299</td>\n",
       "      <td>3.615162</td>\n",
       "      <td>25.051408</td>\n",
       "      <td>5.379653</td>\n",
       "      <td>46.470164</td>\n",
       "      <td>140.439831</td>\n",
       "      <td>474.122793</td>\n",
       "      <td>70545.050829</td>\n",
       "      <td>7.999817</td>\n",
       "      <td>3.446273</td>\n",
       "    </tr>\n",
       "    <tr>\n",
       "      <th>std</th>\n",
       "      <td>295.073851</td>\n",
       "      <td>4.320057</td>\n",
       "      <td>2.751767</td>\n",
       "      <td>20.289026</td>\n",
       "      <td>1.535261</td>\n",
       "      <td>295.070610</td>\n",
       "      <td>4.318244</td>\n",
       "      <td>2.736751</td>\n",
       "      <td>20.359195</td>\n",
       "      <td>3.498465</td>\n",
       "      <td>23.226349</td>\n",
       "      <td>35.129087</td>\n",
       "      <td>443.717750</td>\n",
       "      <td>295.615170</td>\n",
       "      <td>4.320843</td>\n",
       "      <td>2.652761</td>\n",
       "    </tr>\n",
       "    <tr>\n",
       "      <th>min</th>\n",
       "      <td>70001.000000</td>\n",
       "      <td>1.000000</td>\n",
       "      <td>1.000000</td>\n",
       "      <td>0.000000</td>\n",
       "      <td>0.000000</td>\n",
       "      <td>70001.000000</td>\n",
       "      <td>1.000000</td>\n",
       "      <td>1.000000</td>\n",
       "      <td>0.000000</td>\n",
       "      <td>0.000000</td>\n",
       "      <td>0.250000</td>\n",
       "      <td>10.000000</td>\n",
       "      <td>21.816969</td>\n",
       "      <td>70001.000000</td>\n",
       "      <td>1.000000</td>\n",
       "      <td>1.000000</td>\n",
       "    </tr>\n",
       "    <tr>\n",
       "      <th>25%</th>\n",
       "      <td>70297.000000</td>\n",
       "      <td>4.000000</td>\n",
       "      <td>2.000000</td>\n",
       "      <td>9.000000</td>\n",
       "      <td>0.000000</td>\n",
       "      <td>70297.000000</td>\n",
       "      <td>4.000000</td>\n",
       "      <td>2.000000</td>\n",
       "      <td>9.000000</td>\n",
       "      <td>2.000000</td>\n",
       "      <td>25.700001</td>\n",
       "      <td>122.000000</td>\n",
       "      <td>203.767820</td>\n",
       "      <td>70296.000000</td>\n",
       "      <td>4.000000</td>\n",
       "      <td>1.000000</td>\n",
       "    </tr>\n",
       "    <tr>\n",
       "      <th>50%</th>\n",
       "      <td>70579.000000</td>\n",
       "      <td>8.000000</td>\n",
       "      <td>3.000000</td>\n",
       "      <td>19.000000</td>\n",
       "      <td>0.000000</td>\n",
       "      <td>70579.000000</td>\n",
       "      <td>8.000000</td>\n",
       "      <td>3.000000</td>\n",
       "      <td>19.000000</td>\n",
       "      <td>5.000000</td>\n",
       "      <td>50.599998</td>\n",
       "      <td>155.000000</td>\n",
       "      <td>375.380188</td>\n",
       "      <td>70576.500000</td>\n",
       "      <td>8.000000</td>\n",
       "      <td>3.000000</td>\n",
       "    </tr>\n",
       "    <tr>\n",
       "      <th>75%</th>\n",
       "      <td>70799.000000</td>\n",
       "      <td>12.000000</td>\n",
       "      <td>5.000000</td>\n",
       "      <td>37.000000</td>\n",
       "      <td>0.000000</td>\n",
       "      <td>70799.000000</td>\n",
       "      <td>12.000000</td>\n",
       "      <td>5.000000</td>\n",
       "      <td>37.000000</td>\n",
       "      <td>8.000000</td>\n",
       "      <td>62.400002</td>\n",
       "      <td>165.000000</td>\n",
       "      <td>592.152266</td>\n",
       "      <td>70800.000000</td>\n",
       "      <td>12.000000</td>\n",
       "      <td>5.000000</td>\n",
       "    </tr>\n",
       "    <tr>\n",
       "      <th>max</th>\n",
       "      <td>71000.000000</td>\n",
       "      <td>15.000000</td>\n",
       "      <td>31.000000</td>\n",
       "      <td>99.000000</td>\n",
       "      <td>12.000000</td>\n",
       "      <td>71000.000000</td>\n",
       "      <td>15.000000</td>\n",
       "      <td>31.000000</td>\n",
       "      <td>99.000000</td>\n",
       "      <td>11.000000</td>\n",
       "      <td>222.000000</td>\n",
       "      <td>264.000000</td>\n",
       "      <td>6614.401149</td>\n",
       "      <td>71000.000000</td>\n",
       "      <td>15.000000</td>\n",
       "      <td>30.000000</td>\n",
       "    </tr>\n",
       "  </tbody>\n",
       "</table>\n",
       "</div>"
      ],
      "text/plain": [
       "            clust_x          nh_x         pid_x     age_years  \\\n",
       "count  59864.000000  59864.000000  59864.000000  59864.000000   \n",
       "mean   70545.428688      7.998814      3.637762     24.997461   \n",
       "std      295.073851      4.320057      2.751767     20.289026   \n",
       "min    70001.000000      1.000000      1.000000      0.000000   \n",
       "25%    70297.000000      4.000000      2.000000      9.000000   \n",
       "50%    70579.000000      8.000000      3.000000     19.000000   \n",
       "75%    70799.000000     12.000000      5.000000     37.000000   \n",
       "max    71000.000000     15.000000     31.000000     99.000000   \n",
       "\n",
       "       months_away_from_hse       clust_y          nh_y         pid_y  \\\n",
       "count          59864.000000  58804.000000  58804.000000  58804.000000   \n",
       "mean               0.348423  70545.655466      8.003299      3.615162   \n",
       "std                1.535261    295.070610      4.318244      2.736751   \n",
       "min                0.000000  70001.000000      1.000000      1.000000   \n",
       "25%                0.000000  70297.000000      4.000000      2.000000   \n",
       "50%                0.000000  70579.000000      8.000000      3.000000   \n",
       "75%                0.000000  70799.000000     12.000000      5.000000   \n",
       "max               12.000000  71000.000000     15.000000     31.000000   \n",
       "\n",
       "            age_yrs     age_mths        weight        Height         WTA_S  \\\n",
       "count  58804.000000  7549.000000  48393.000000  48145.000000  58804.000000   \n",
       "mean      25.051408     5.379653     46.470164    140.439831    474.122793   \n",
       "std       20.359195     3.498465     23.226349     35.129087    443.717750   \n",
       "min        0.000000     0.000000      0.250000     10.000000     21.816969   \n",
       "25%        9.000000     2.000000     25.700001    122.000000    203.767820   \n",
       "50%       19.000000     5.000000     50.599998    155.000000    375.380188   \n",
       "75%       37.000000     8.000000     62.400002    165.000000    592.152266   \n",
       "max       99.000000    11.000000    222.000000    264.000000   6614.401149   \n",
       "\n",
       "              clust            nh           pid  \n",
       "count  54516.000000  54516.000000  54516.000000  \n",
       "mean   70545.050829      7.999817      3.446273  \n",
       "std      295.615170      4.320843      2.652761  \n",
       "min    70001.000000      1.000000      1.000000  \n",
       "25%    70296.000000      4.000000      1.000000  \n",
       "50%    70576.500000      8.000000      3.000000  \n",
       "75%    70800.000000     12.000000      5.000000  \n",
       "max    71000.000000     15.000000     30.000000  "
      ]
     },
     "metadata": {},
     "execution_count": 54
    }
   ],
   "metadata": {}
  },
  {
   "cell_type": "code",
   "execution_count": 55,
   "source": [
    "data[['sex']]"
   ],
   "outputs": [
    {
     "output_type": "execute_result",
     "data": {
      "text/html": [
       "<div>\n",
       "<style scoped>\n",
       "    .dataframe tbody tr th:only-of-type {\n",
       "        vertical-align: middle;\n",
       "    }\n",
       "\n",
       "    .dataframe tbody tr th {\n",
       "        vertical-align: top;\n",
       "    }\n",
       "\n",
       "    .dataframe thead th {\n",
       "        text-align: right;\n",
       "    }\n",
       "</style>\n",
       "<table border=\"1\" class=\"dataframe\">\n",
       "  <thead>\n",
       "    <tr style=\"text-align: right;\">\n",
       "      <th></th>\n",
       "      <th>sex</th>\n",
       "    </tr>\n",
       "  </thead>\n",
       "  <tbody>\n",
       "    <tr>\n",
       "      <th>0</th>\n",
       "      <td>Female</td>\n",
       "    </tr>\n",
       "    <tr>\n",
       "      <th>1</th>\n",
       "      <td>Male</td>\n",
       "    </tr>\n",
       "    <tr>\n",
       "      <th>2</th>\n",
       "      <td>Female</td>\n",
       "    </tr>\n",
       "    <tr>\n",
       "      <th>3</th>\n",
       "      <td>Male</td>\n",
       "    </tr>\n",
       "    <tr>\n",
       "      <th>4</th>\n",
       "      <td>Female</td>\n",
       "    </tr>\n",
       "    <tr>\n",
       "      <th>...</th>\n",
       "      <td>...</td>\n",
       "    </tr>\n",
       "    <tr>\n",
       "      <th>59859</th>\n",
       "      <td>Female</td>\n",
       "    </tr>\n",
       "    <tr>\n",
       "      <th>59860</th>\n",
       "      <td>Male</td>\n",
       "    </tr>\n",
       "    <tr>\n",
       "      <th>59861</th>\n",
       "      <td>Male</td>\n",
       "    </tr>\n",
       "    <tr>\n",
       "      <th>59862</th>\n",
       "      <td>Male</td>\n",
       "    </tr>\n",
       "    <tr>\n",
       "      <th>59863</th>\n",
       "      <td>Male</td>\n",
       "    </tr>\n",
       "  </tbody>\n",
       "</table>\n",
       "<p>59864 rows × 1 columns</p>\n",
       "</div>"
      ],
      "text/plain": [
       "          sex\n",
       "0      Female\n",
       "1        Male\n",
       "2      Female\n",
       "3        Male\n",
       "4      Female\n",
       "...       ...\n",
       "59859  Female\n",
       "59860    Male\n",
       "59861    Male\n",
       "59862    Male\n",
       "59863    Male\n",
       "\n",
       "[59864 rows x 1 columns]"
      ]
     },
     "metadata": {},
     "execution_count": 55
    }
   ],
   "metadata": {}
  },
  {
   "cell_type": "code",
   "execution_count": 56,
   "source": [
    "data_mar_only = data.dropna(subset='marital_status')"
   ],
   "outputs": [],
   "metadata": {}
  },
  {
   "cell_type": "code",
   "execution_count": 57,
   "source": [
    "data_mar_only.info()"
   ],
   "outputs": [
    {
     "output_type": "stream",
     "name": "stdout",
     "text": [
      "<class 'pandas.core.frame.DataFrame'>\n",
      "Int64Index: 40831 entries, 0 to 59863\n",
      "Data columns (total 30 columns):\n",
      " #   Column                Non-Null Count  Dtype   \n",
      "---  ------                --------------  -----   \n",
      " 0   phid                  40831 non-null  object  \n",
      " 1   hid_x                 40831 non-null  object  \n",
      " 2   clust_x               40831 non-null  float64 \n",
      " 3   nh_x                  40831 non-null  float64 \n",
      " 4   pid_x                 40831 non-null  float64 \n",
      " 5   age_years             40831 non-null  float64 \n",
      " 6   father_in_hse         40829 non-null  category\n",
      " 7   mother_in_hse         40830 non-null  category\n",
      " 8   months_away_from_hse  40831 non-null  float64 \n",
      " 9   religion              40831 non-null  category\n",
      " 10  marital_status        40831 non-null  category\n",
      " 11  clust_y               40050 non-null  float64 \n",
      " 12  nh_y                  40050 non-null  float64 \n",
      " 13  pid_y                 40050 non-null  float64 \n",
      " 14  sex                   40050 non-null  category\n",
      " 15  age_yrs               40050 non-null  float64 \n",
      " 16  age_mths              0 non-null      float64 \n",
      " 17  measured_or_not       40049 non-null  category\n",
      " 18  weight                32641 non-null  float64 \n",
      " 19  measure_mode          32644 non-null  category\n",
      " 20  Height                32603 non-null  float64 \n",
      " 21  hid_y                 40050 non-null  object  \n",
      " 22  region                40050 non-null  category\n",
      " 23  urbrur                40050 non-null  category\n",
      " 24  WTA_S                 40050 non-null  float64 \n",
      " 25  clust                 40087 non-null  float64 \n",
      " 26  nh                    40087 non-null  float64 \n",
      " 27  pid                   40087 non-null  float64 \n",
      " 28  attend_school         40087 non-null  category\n",
      " 29  highest_edu           30430 non-null  category\n",
      "dtypes: category(11), float64(16), object(3)\n",
      "memory usage: 6.7+ MB\n"
     ]
    }
   ],
   "metadata": {}
  },
  {
   "cell_type": "code",
   "execution_count": 58,
   "source": [
    "data_mar_only[['weight', 'Height', 'age_yrs']].info()"
   ],
   "outputs": [
    {
     "output_type": "stream",
     "name": "stdout",
     "text": [
      "<class 'pandas.core.frame.DataFrame'>\n",
      "Int64Index: 40831 entries, 0 to 59863\n",
      "Data columns (total 3 columns):\n",
      " #   Column   Non-Null Count  Dtype  \n",
      "---  ------   --------------  -----  \n",
      " 0   weight   32641 non-null  float64\n",
      " 1   Height   32603 non-null  float64\n",
      " 2   age_yrs  40050 non-null  float64\n",
      "dtypes: float64(3)\n",
      "memory usage: 1.2 MB\n"
     ]
    }
   ],
   "metadata": {}
  },
  {
   "cell_type": "code",
   "execution_count": 59,
   "source": [
    "id(data_mar_only)"
   ],
   "outputs": [
    {
     "output_type": "execute_result",
     "data": {
      "text/plain": [
       "140444277409440"
      ]
     },
     "metadata": {},
     "execution_count": 59
    }
   ],
   "metadata": {}
  },
  {
   "cell_type": "code",
   "execution_count": 60,
   "source": [
    "s = \"hello world\"\n",
    "\n",
    "s[0]"
   ],
   "outputs": [
    {
     "output_type": "execute_result",
     "data": {
      "text/plain": [
       "'h'"
      ]
     },
     "metadata": {},
     "execution_count": 60
    }
   ],
   "metadata": {}
  },
  {
   "cell_type": "code",
   "execution_count": 61,
   "source": [
    "data_mar_only.columns"
   ],
   "outputs": [
    {
     "output_type": "execute_result",
     "data": {
      "text/plain": [
       "Index(['phid', 'hid_x', 'clust_x', 'nh_x', 'pid_x', 'age_years',\n",
       "       'father_in_hse', 'mother_in_hse', 'months_away_from_hse', 'religion',\n",
       "       'marital_status', 'clust_y', 'nh_y', 'pid_y', 'sex', 'age_yrs',\n",
       "       'age_mths', 'measured_or_not', 'weight', 'measure_mode', 'Height',\n",
       "       'hid_y', 'region', 'urbrur', 'WTA_S', 'clust', 'nh', 'pid',\n",
       "       'attend_school', 'highest_edu'],\n",
       "      dtype='object')"
      ]
     },
     "metadata": {},
     "execution_count": 61
    }
   ],
   "metadata": {}
  },
  {
   "cell_type": "code",
   "execution_count": 62,
   "source": [
    "\"\"\"\n",
    "# Introduction - Problem statement\n",
    "\n",
    "DateRush Mate (hypothetical firm used to establish a business case for this data science project) aims to be one of the \n",
    "leading platform providers for dating services hence has a keen focus on continuous improvement of their products. \n",
    "One of such servces is aiding matches make better decisions on their potential partners before taking in-person dates and \n",
    "establishing strong bonds. While openness is encouraged as the cornerstone of building trust among matches, not every platform \n",
    "user provides the same amount of information. Helping bridge the gap and developing tools to provide such information has \n",
    "make a solid business case so much so that we have have segmented users into different tiers with Pro users being provided \n",
    "the services of filling in the blanks on information that a match has not provided and is not required to do \n",
    "so to start with. For this, intelligent tools are required for prediction.\n",
    "\n",
    "\n",
    "In providing such services, the most requested information by our users is to know the marital status of client. Given that \n",
    "an platform user is not obliged to include their the marital status on the profile but have the option of asking their match \n",
    "in person, many users leave-out such information yet consider know that of a partner important in deciding whether an in-person \n",
    "date or serious dating should be considered. Driven by solving problems that are most important and whose solutions are most \n",
    "requested by users, predicting the marital status of users is designated as a high priority task for which a demonstration of \n",
    "how to develop a working solution is provided in this post. \n",
    "\n",
    "\n",
    "The understanding gained from the problem statement as well as our background as data scientists informs our judgement that \n",
    "a machine learning solution is required rather than beating information or confession out of our clients. Thus, the focus of \n",
    "this discussion is on demonstration how to develop a machine learning solution for the given problem. \n",
    "\n",
    "As can be deduced already, we have different stakeholders and collaborators working together at different stages to devise \n",
    "a solution. Identifying these stakeholders and partners is critical for the success of the project. In particular, this enables\n",
    "defining clear cut-out deliverables and requirements upon which all parties can determine success status for the project. \n",
    "The stakeholders for this project are identified to be product owner and date counsellors whose services are \n",
    "requested by some users after matching and proceeding for serious relationship. The collaborators are the data scientist and \n",
    "Machine Learning Engineer. The most discernible difference between the stakeholders which also poses a challenge to resolve is \n",
    "the fact that they have different technical backgrounds. By this, the end-users of the product are non-technical audience \n",
    "who need the easiest way to use the solutions without any coding required while the Data Scientist will write codes for which he/she \n",
    "can explain the logic to the non-technical audience when the need arises.\n",
    "\n",
    "In response to providing such medium for capturing the project as a snapshot for reference among all stakeholders, a problem \n",
    "design framework is used to capture the problem statement and project for that matter. For this the Situation Complication Question \n",
    "Answer (SCQA) is used to capture the problem statement as a snapshot. This allows for easy communication of the project to \n",
    "non-technical users. The SCQA is depicted below;\n",
    "\n",
    "\n",
    "## Research Question \n",
    "\n",
    "(i) How do we identify a dataset with features that we can collect data for on our plantform for developing an accurate model?\n",
    "\n",
    "(ii) How do we leverage available data to predict marital status of people?\n",
    "\n",
    "\n",
    "## Research Objective\n",
    "\n",
    "(i) To identify open source data with features for predicting marital status\n",
    "\n",
    "(ii) To develop a machine learning model for predicting marital status\n",
    "\n",
    " \n",
    "\n",
    "## Search for Data for modelling\n",
    "\n",
    "Data science projects start with data collection and for most business cases, data is usually provided by the business \n",
    "instead of field data collection. Instances where data is not available requires usually an open source data as one of the \n",
    "approaches to developed a model. In such cases, where we will still need to increase the sample size of the data and improve \n",
    "the model in the future, focus is drawn to which of the features in the open source data can the business generate its own \n",
    "data for. Using dataset with features for which data cannot be generated internal will come with an extra challenge and cost.\n",
    "Hence, even though several open-source data  may be available not all of them will be useful in case, there still need to \n",
    "be used to meet business needs in the future. For example, if a data has blood group or HIV/AIDS status as one of the feature \n",
    "and we can not generate data for that feature in our business in the future then we should not use that feature for modelling \n",
    "to meet business needs. Features in dataset for modelling should be one that will be available in the future when new data \n",
    "is available. This inform the search for dataset and features for developing the modelling.\n",
    "\n",
    "\n",
    "The dataset used for developing the machine learning model is the Ghana Living Standards Survey 7 (2016/2017). \n",
    "The dataset can be downloaded from https://www2.statsghana.gov.gh/nada/index.php/catalog/97/study-description. \n",
    "The dataset contains data on marital status and other features which are preselected to be explored for developing the model.\n",
    "\n",
    "\n",
    "## Understanding the dataset / data collection method\n",
    "\n",
    "Before even starting the data exploration, it is critical that we familiarize ourselves with the metadata and \n",
    "questionnaires to understand the various variables and their background. The files from which the variables were \n",
    "extracted are mainly from g7sec1.sav, g7sec7j, and g7sec2. These files are found in the downloaded dataset are \n",
    "identified to the relevant ones for this analysis. A review of the variables and meaning from these files is provided\n",
    "below. For each variable, the corresponding questions asked to collect the data is provided\n",
    "\n",
    "• s1q2: sex of individual\n",
    "\n",
    "• s1q18:  'mother_in_hse'  <<  18 Does (NAME’S) mother live in this household?\n",
    "\n",
    "• s1q10: 'religion'  <<  What is (NAME’S) religious denomination?\n",
    "\n",
    "• s7jq3: 'Height'  <<  Height (cm) of household member.\n",
    "\n",
    "• s1q14:  'father_in_hse'   <<   Does (NAME’S) father live in this household?\n",
    "\n",
    "• s1q22:  'months_away_from_hse'   <<  For how many months during the past 12 months has (NAME) been continuously away from this household?\n",
    "\n",
    "• s2aq1b: 'highest_edu'   <<   What is the highest level of education (NAME) has attained?\n",
    "\n",
    "• 's2aq1': 'attend_school'  <<  Has (NAME) ever attended school?\n",
    "\n",
    "• 's1q6': 'marital_status'  <<   What is (NAME’S) present marital status?\n",
    "\n",
    "• 's7jq1': 'weight'  <<   Weight (Kg) of household member\n",
    "\n",
    "• phid: id of individual in household\n",
    "\n",
    "• age_yrs\n",
    "\n",
    "• sex\n",
    "\n",
    "\n",
    "\n",
    "### Identifying and categorizing variables in the data\n",
    "\n",
    "The data type used to store a variable determines the typs of exploratory analysis, visualization and categorical machine \n",
    "learning algorithm to use. Thus, the various variables are accessed based on that as follows:\n",
    "\n",
    "\n",
    "#### Target / Outcome variable\n",
    "\n",
    "• marital_status: Categorical\n",
    "\n",
    "#### Predictor / feature variables\n",
    "\n",
    "• mother_in_hse: Categorical\n",
    "\n",
    "• religion: Categorical \n",
    "\n",
    "• Height: Continuous quantitative \n",
    "\n",
    "• father_in_hse: Categorical \n",
    "\n",
    "• highest_edu: Categorical \n",
    "\n",
    "• attend_school:  Categorical \n",
    "\n",
    "• weight:  Continuous Quantitative\n",
    "\n",
    "• months_away_from_hse: Discrete Quantitative\n",
    "\n",
    "• age_yrs: Discrete Quantitative\n",
    "\n",
    "• sex: Categorical \n",
    "\n",
    "Exploratory data analysis is organized to reflect the data types of the various variables as follows.\n",
    "\n",
    "\n",
    "# Exploratory analysis\n",
    "\n",
    "Exploratory data analysis is undertaken to investigate some of the assumptions that some machine learning algorithms \n",
    "require. Among others, the type of underlying distribution that a variable is from, the relationsip between the \n",
    "various variables and possible data transformation are explored at this stage. The insights gained from such analysis \n",
    "is important for undertaking feature selection.\n",
    "\n",
    "\n",
    "### Data analysis \n",
    "\n",
    "Given the various features preselected to be explored for modelling are in different files, \n",
    "there is the need to combine data from the various files. For this, a common variable in the files is \n",
    "required and for this \"phid\" variable is used as follows. \n",
    "\"\"\""
   ],
   "outputs": [
    {
     "output_type": "execute_result",
     "data": {
      "text/plain": [
       "'\\n# Introduction - Problem statement\\n\\nDateRush Mate (hypothetical firm used to establish a business case for this data science project) aims to be one of the \\nleading platform providers for dating services hence has a keen focus on continuous improvement of their products. \\nOne of such servces is aiding matches make better decisions on their potential partners before taking in-person dates and \\nestablishing strong bonds. While openness is encouraged as the cornerstone of building trust among matches, not every platform \\nuser provides the same amount of information. Helping bridge the gap and developing tools to provide such information has \\nmake a solid business case so much so that we have have segmented users into different tiers with Pro users being provided \\nthe services of filling in the blanks on information that a match has not provided and is not required to do \\nso to start with. For this, intelligent tools are required for prediction.\\n\\n\\nIn providing such services, the most requested information by our users is to know the marital status of client. Given that \\nan platform user is not obliged to include their the marital status on the profile but have the option of asking their match \\nin person, many users leave-out such information yet consider know that of a partner important in deciding whether an in-person \\ndate or serious dating should be considered. Driven by solving problems that are most important and whose solutions are most \\nrequested by users, predicting the marital status of users is designated as a high priority task for which a demonstration of \\nhow to develop a working solution is provided in this post. \\n\\n\\nThe understanding gained from the problem statement as well as our background as data scientists informs our judgement that \\na machine learning solution is required rather than beating information or confession out of our clients. Thus, the focus of \\nthis discussion is on demonstration how to develop a machine learning solution for the given problem. \\n\\nAs can be deduced already, we have different stakeholders and collaborators working together at different stages to devise \\na solution. Identifying these stakeholders and partners is critical for the success of the project. In particular, this enables\\ndefining clear cut-out deliverables and requirements upon which all parties can determine success status for the project. \\nThe stakeholders for this project are identified to be product owner and date counsellors whose services are \\nrequested by some users after matching and proceeding for serious relationship. The collaborators are the data scientist and \\nMachine Learning Engineer. The most discernible difference between the stakeholders which also poses a challenge to resolve is \\nthe fact that they have different technical backgrounds. By this, the end-users of the product are non-technical audience \\nwho need the easiest way to use the solutions without any coding required while the Data Scientist will write codes for which he/she \\ncan explain the logic to the non-technical audience when the need arises.\\n\\nIn response to providing such medium for capturing the project as a snapshot for reference among all stakeholders, a problem \\ndesign framework is used to capture the problem statement and project for that matter. For this the Situation Complication Question \\nAnswer (SCQA) is used to capture the problem statement as a snapshot. This allows for easy communication of the project to \\nnon-technical users. The SCQA is depicted below;\\n\\n\\n## Research Question \\n\\n(i) How do we identify a dataset with features that we can collect data for on our plantform for developing an accurate model?\\n\\n(ii) How do we leverage available data to predict marital status of people?\\n\\n\\n## Research Objective\\n\\n(i) To identify open source data with features for predicting marital status\\n\\n(ii) To develop a machine learning model for predicting marital status\\n\\n \\n\\n## Search for Data for modelling\\n\\nData science projects start with data collection and for most business cases, data is usually provided by the business \\ninstead of field data collection. Instances where data is not available requires usually an open source data as one of the \\napproaches to developed a model. In such cases, where we will still need to increase the sample size of the data and improve \\nthe model in the future, focus is drawn to which of the features in the open source data can the business generate its own \\ndata for. Using dataset with features for which data cannot be generated internal will come with an extra challenge and cost.\\nHence, even though several open-source data  may be available not all of them will be useful in case, there still need to \\nbe used to meet business needs in the future. For example, if a data has blood group or HIV/AIDS status as one of the feature \\nand we can not generate data for that feature in our business in the future then we should not use that feature for modelling \\nto meet business needs. Features in dataset for modelling should be one that will be available in the future when new data \\nis available. This inform the search for dataset and features for developing the modelling.\\n\\n\\nThe dataset used for developing the machine learning model is the Ghana Living Standards Survey 7 (2016/2017). \\nThe dataset can be downloaded from https://www2.statsghana.gov.gh/nada/index.php/catalog/97/study-description. \\nThe dataset contains data on marital status and other features which are preselected to be explored for developing the model.\\n\\n\\n## Understanding the dataset / data collection method\\n\\nBefore even starting the data exploration, it is critical that we familiarize ourselves with the metadata and \\nquestionnaires to understand the various variables and their background. The files from which the variables were \\nextracted are mainly from g7sec1.sav, g7sec7j, and g7sec2. These files are found in the downloaded dataset are \\nidentified to the relevant ones for this analysis. A review of the variables and meaning from these files is provided\\nbelow. For each variable, the corresponding questions asked to collect the data is provided\\n\\n• s1q2: sex of individual\\n\\n• s1q18:  \\'mother_in_hse\\'  <<  18 Does (NAME’S) mother live in this household?\\n\\n• s1q10: \\'religion\\'  <<  What is (NAME’S) religious denomination?\\n\\n• s7jq3: \\'Height\\'  <<  Height (cm) of household member.\\n\\n• s1q14:  \\'father_in_hse\\'   <<   Does (NAME’S) father live in this household?\\n\\n• s1q22:  \\'months_away_from_hse\\'   <<  For how many months during the past 12 months has (NAME) been continuously away from this household?\\n\\n• s2aq1b: \\'highest_edu\\'   <<   What is the highest level of education (NAME) has attained?\\n\\n• \\'s2aq1\\': \\'attend_school\\'  <<  Has (NAME) ever attended school?\\n\\n• \\'s1q6\\': \\'marital_status\\'  <<   What is (NAME’S) present marital status?\\n\\n• \\'s7jq1\\': \\'weight\\'  <<   Weight (Kg) of household member\\n\\n• phid: id of individual in household\\n\\n• age_yrs\\n\\n• sex\\n\\n\\n\\n### Identifying and categorizing variables in the data\\n\\nThe data type used to store a variable determines the typs of exploratory analysis, visualization and categorical machine \\nlearning algorithm to use. Thus, the various variables are accessed based on that as follows:\\n\\n\\n#### Target / Outcome variable\\n\\n• marital_status: Categorical\\n\\n#### Predictor / feature variables\\n\\n• mother_in_hse: Categorical\\n\\n• religion: Categorical \\n\\n• Height: Continuous quantitative \\n\\n• father_in_hse: Categorical \\n\\n• highest_edu: Categorical \\n\\n• attend_school:  Categorical \\n\\n• weight:  Continuous Quantitative\\n\\n• months_away_from_hse: Discrete Quantitative\\n\\n• age_yrs: Discrete Quantitative\\n\\n• sex: Categorical \\n\\nExploratory data analysis is organized to reflect the data types of the various variables as follows.\\n\\n\\n# Exploratory analysis\\n\\nExploratory data analysis is undertaken to investigate some of the assumptions that some machine learning algorithms \\nrequire. Among others, the type of underlying distribution that a variable is from, the relationsip between the \\nvarious variables and possible data transformation are explored at this stage. The insights gained from such analysis \\nis important for undertaking feature selection.\\n\\n\\n### Data analysis \\n\\nGiven the various features preselected to be explored for modelling are in different files, \\nthere is the need to combine data from the various files. For this, a common variable in the files is \\nrequired and for this \"phid\" variable is used as follows. \\n'"
      ]
     },
     "metadata": {},
     "execution_count": 62
    }
   ],
   "metadata": {}
  }
 ],
 "nbformat": 4,
 "nbformat_minor": 2,
 "metadata": {
  "language_info": {
   "codemirror_mode": {
    "name": "ipython",
    "version": 3
   },
   "file_extension": ".py",
   "mimetype": "text/x-python",
   "name": "python",
   "nbconvert_exporter": "python",
   "pygments_lexer": "ipython3",
   "version": 3
  },
  "orig_nbformat": 4
 }
}